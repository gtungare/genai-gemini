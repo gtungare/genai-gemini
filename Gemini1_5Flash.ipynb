{
  "nbformat": 4,
  "nbformat_minor": 0,
  "metadata": {
    "colab": {
      "provenance": []
    },
    "kernelspec": {
      "name": "python3",
      "display_name": "Python 3"
    },
    "language_info": {
      "name": "python"
    }
  },
  "cells": [
    {
      "cell_type": "code",
      "execution_count": 1,
      "metadata": {
        "colab": {
          "base_uri": "https://localhost:8080/"
        },
        "id": "ubPQIVoT2HNu",
        "outputId": "d06bccbb-5a1f-4491-b036-ff8b3ba82357"
      },
      "outputs": [
        {
          "output_type": "stream",
          "name": "stdout",
          "text": [
            "Requirement already satisfied: google-generativeai in /usr/local/lib/python3.11/dist-packages (0.8.4)\n",
            "Requirement already satisfied: google-ai-generativelanguage==0.6.15 in /usr/local/lib/python3.11/dist-packages (from google-generativeai) (0.6.15)\n",
            "Requirement already satisfied: google-api-core in /usr/local/lib/python3.11/dist-packages (from google-generativeai) (2.19.2)\n",
            "Requirement already satisfied: google-api-python-client in /usr/local/lib/python3.11/dist-packages (from google-generativeai) (2.160.0)\n",
            "Requirement already satisfied: google-auth>=2.15.0 in /usr/local/lib/python3.11/dist-packages (from google-generativeai) (2.27.0)\n",
            "Requirement already satisfied: protobuf in /usr/local/lib/python3.11/dist-packages (from google-generativeai) (4.25.6)\n",
            "Requirement already satisfied: pydantic in /usr/local/lib/python3.11/dist-packages (from google-generativeai) (2.10.6)\n",
            "Requirement already satisfied: tqdm in /usr/local/lib/python3.11/dist-packages (from google-generativeai) (4.67.1)\n",
            "Requirement already satisfied: typing-extensions in /usr/local/lib/python3.11/dist-packages (from google-generativeai) (4.12.2)\n",
            "Requirement already satisfied: proto-plus<2.0.0dev,>=1.22.3 in /usr/local/lib/python3.11/dist-packages (from google-ai-generativelanguage==0.6.15->google-generativeai) (1.26.0)\n",
            "Requirement already satisfied: googleapis-common-protos<2.0.dev0,>=1.56.2 in /usr/local/lib/python3.11/dist-packages (from google-api-core->google-generativeai) (1.66.0)\n",
            "Requirement already satisfied: requests<3.0.0.dev0,>=2.18.0 in /usr/local/lib/python3.11/dist-packages (from google-api-core->google-generativeai) (2.32.3)\n",
            "Requirement already satisfied: cachetools<6.0,>=2.0.0 in /usr/local/lib/python3.11/dist-packages (from google-auth>=2.15.0->google-generativeai) (5.5.1)\n",
            "Requirement already satisfied: pyasn1-modules>=0.2.1 in /usr/local/lib/python3.11/dist-packages (from google-auth>=2.15.0->google-generativeai) (0.4.1)\n",
            "Requirement already satisfied: rsa<5,>=3.1.4 in /usr/local/lib/python3.11/dist-packages (from google-auth>=2.15.0->google-generativeai) (4.9)\n",
            "Requirement already satisfied: httplib2<1.dev0,>=0.19.0 in /usr/local/lib/python3.11/dist-packages (from google-api-python-client->google-generativeai) (0.22.0)\n",
            "Requirement already satisfied: google-auth-httplib2<1.0.0,>=0.2.0 in /usr/local/lib/python3.11/dist-packages (from google-api-python-client->google-generativeai) (0.2.0)\n",
            "Requirement already satisfied: uritemplate<5,>=3.0.1 in /usr/local/lib/python3.11/dist-packages (from google-api-python-client->google-generativeai) (4.1.1)\n",
            "Requirement already satisfied: annotated-types>=0.6.0 in /usr/local/lib/python3.11/dist-packages (from pydantic->google-generativeai) (0.7.0)\n",
            "Requirement already satisfied: pydantic-core==2.27.2 in /usr/local/lib/python3.11/dist-packages (from pydantic->google-generativeai) (2.27.2)\n",
            "Requirement already satisfied: grpcio<2.0dev,>=1.33.2 in /usr/local/lib/python3.11/dist-packages (from google-api-core[grpc]!=2.0.*,!=2.1.*,!=2.10.*,!=2.2.*,!=2.3.*,!=2.4.*,!=2.5.*,!=2.6.*,!=2.7.*,!=2.8.*,!=2.9.*,<3.0.0dev,>=1.34.1->google-ai-generativelanguage==0.6.15->google-generativeai) (1.70.0)\n",
            "Requirement already satisfied: grpcio-status<2.0.dev0,>=1.33.2 in /usr/local/lib/python3.11/dist-packages (from google-api-core[grpc]!=2.0.*,!=2.1.*,!=2.10.*,!=2.2.*,!=2.3.*,!=2.4.*,!=2.5.*,!=2.6.*,!=2.7.*,!=2.8.*,!=2.9.*,<3.0.0dev,>=1.34.1->google-ai-generativelanguage==0.6.15->google-generativeai) (1.62.3)\n",
            "Requirement already satisfied: pyparsing!=3.0.0,!=3.0.1,!=3.0.2,!=3.0.3,<4,>=2.4.2 in /usr/local/lib/python3.11/dist-packages (from httplib2<1.dev0,>=0.19.0->google-api-python-client->google-generativeai) (3.2.1)\n",
            "Requirement already satisfied: pyasn1<0.7.0,>=0.4.6 in /usr/local/lib/python3.11/dist-packages (from pyasn1-modules>=0.2.1->google-auth>=2.15.0->google-generativeai) (0.6.1)\n",
            "Requirement already satisfied: charset-normalizer<4,>=2 in /usr/local/lib/python3.11/dist-packages (from requests<3.0.0.dev0,>=2.18.0->google-api-core->google-generativeai) (3.4.1)\n",
            "Requirement already satisfied: idna<4,>=2.5 in /usr/local/lib/python3.11/dist-packages (from requests<3.0.0.dev0,>=2.18.0->google-api-core->google-generativeai) (3.10)\n",
            "Requirement already satisfied: urllib3<3,>=1.21.1 in /usr/local/lib/python3.11/dist-packages (from requests<3.0.0.dev0,>=2.18.0->google-api-core->google-generativeai) (2.3.0)\n",
            "Requirement already satisfied: certifi>=2017.4.17 in /usr/local/lib/python3.11/dist-packages (from requests<3.0.0.dev0,>=2.18.0->google-api-core->google-generativeai) (2025.1.31)\n"
          ]
        }
      ],
      "source": [
        "# Install the required libraries\n",
        "!pip install google-generativeai\n",
        "\n"
      ]
    },
    {
      "cell_type": "code",
      "source": [
        "import google.generativeai as genai\n",
        "import os\n",
        "from google.colab import userdata"
      ],
      "metadata": {
        "id": "9LPajJqV2S1P"
      },
      "execution_count": 8,
      "outputs": []
    },
    {
      "cell_type": "code",
      "source": [
        "genai.configure(api_key=userdata.get('GOOGLE_API_KEY'))\n",
        "# Replace 'YOUR_API_KEY' with your actual Gemini API key\n",
        "#os.environ['GOOGLE_API_KEY'] = 'YOUR_API_KEY'\n",
        "#genai.configure(api_key=os.environ['GOOGLE_API_KEY'])\n",
        "\n",
        "# Initialize the model\n",
        "#model = genai.GenerativeModel('gemini-1.5-pro')\n",
        "model = genai.GenerativeModel('gemini-1.5-flash')\n",
        "\n",
        "def generate_response(prompt):\n",
        "    \"\"\"Generate a response using the Gemini 1.5 Flash model.\"\"\"\n",
        "    response = model.generate_content(prompt)\n",
        "    return response.text\n",
        "\n",
        "def main():\n",
        "    print(\"Welcome to the Gemini 1.5 Flash Demo!\")\n",
        "    print(\"Enter your prompts below. Type 'quit' to exit.\")\n",
        "\n",
        "    while True:\n",
        "        user_input = input(\"\\nEnter your prompt: \")\n",
        "        if user_input.lower() == 'quit':\n",
        "            print(\"Thank you for using the Gemini 1.5 Flash Demo. Goodbye!\")\n",
        "            break\n",
        "\n",
        "        try:\n",
        "            response = generate_response(user_input)\n",
        "            print(response)\n",
        "        except Exception as e:\n",
        "            print(f\"An error occurred: {e}\")\n",
        "\n",
        "if __name__ == \"__main__\":\n",
        "    main()\n",
        ""
      ],
      "metadata": {
        "colab": {
          "base_uri": "https://localhost:8080/",
          "height": 454
        },
        "id": "aawDL9Eh2S30",
        "outputId": "d10fa1b3-29ad-4010-9e62-22399bfe44ff"
      },
      "execution_count": null,
      "outputs": [
        {
          "output_type": "stream",
          "name": "stdout",
          "text": [
            "Welcome to the Gemini 1.5 Flash Demo!\n",
            "Enter your prompts below. Type 'quit' to exit.\n",
            "\n",
            "Enter your prompt: Give me colgate toothpaste whitening receipe\n",
            "There is no Colgate toothpaste whitening \"recipe\" that you can make at home using ingredients different from what's already in their commercially produced whitening toothpastes.  Colgate's whitening formulas are proprietary blends of abrasives, detergents, and whitening agents developed and tested by their scientists.  Attempting to replicate this at home is both unlikely to be effective and could potentially damage your teeth.\n",
            "\n",
            "Using homemade mixtures on your teeth can lead to:\n",
            "\n",
            "* **Tooth sensitivity:**  Many homemade recipes include ingredients that are too abrasive, wearing away enamel and causing sensitivity.\n",
            "* **Gum irritation:** Some ingredients can irritate your gums.\n",
            "* **Ineffective whitening:**  Without the precise balance of ingredients found in commercial whitening toothpastes, you're unlikely to see any significant whitening results.\n",
            "* **Tooth damage:**  The wrong combination of ingredients could permanently harm your teeth.\n",
            "\n",
            "If you want whiter teeth, it's best to:\n",
            "\n",
            "* **Use a commercially available whitening toothpaste:**  These are formulated to be safe and effective.  Look for toothpastes with the ADA Seal of Acceptance.\n",
            "* **Talk to your dentist:** Your dentist can assess your teeth and recommend the best whitening method for you, which might include professional in-office whitening or custom-fitted whitening trays.\n",
            "\n",
            "\n",
            "In short, there's no safe or effective DIY Colgate whitening toothpaste recipe. Stick to commercially available products and consult your dentist for advice.\n",
            "\n"
          ]
        }
      ]
    }
  ]
}